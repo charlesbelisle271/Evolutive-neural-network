{
 "cells": [
  {
   "cell_type": "markdown",
   "id": "7f0cb1d9",
   "metadata": {},
   "source": [
    "In this notebook will be shown how to use the DynamicNetwork module to create models that can mutate.\n",
    "The module contains the DynamicNetwork class, which we'll use to create our players, the compete function, which we'll use to make the players compete against each other, and it contains the test and train function.\n",
    "First, we'll import our datasets\n"
   ]
  },
  {
   "cell_type": "code",
   "execution_count": null,
   "id": "4bb84bc0",
   "metadata": {},
   "outputs": [],
   "source": [
    "from torchvision import datasets\n",
    "from torch.utils.data import DataLoader\n",
    "from torchvision.transforms import ToTensor\n",
    "import random as rd\n",
    "import numpy as np\n",
    "\n",
    "\n",
    "train_data=datasets.CIFAR10(\n",
    "    root=\"data\",#Root of the data, if downloaded\n",
    "    train=True, \n",
    "    download=True, #Wether do download or not. Downloads at root directory\n",
    "    transform=ToTensor() #Transforms the data to tensors\n",
    ")\n",
    "\n",
    "\n",
    "test_data=datasets.CIFAR10(\n",
    "    root=\"data\",#Root of the data, if downloaded\n",
    "    train=False,\n",
    "    download=True, #Wether do download or not. Downloads at root directory\n",
    "    transform=ToTensor() #Transforms the data to tensors\n",
    ")\n",
    "    \n",
    "batch_size=64\n",
    "\n",
    "train_dataloader=DataLoader(train_data, batch_size=batch_size) #Wraps an iterable around the data\n",
    "test_dataloader = DataLoader(test_data, batch_size=batch_size)\n",
    "\n",
    "lin_input=28*28\n",
    "nb_of_labels=10"
   ]
  },
  {
   "cell_type": "markdown",
   "id": "b5edf505",
   "metadata": {},
   "source": [
    "Here we import the train and test function from the DynamicNetwork module, as well as the DynamicNetwork class. The train and test function are basic loops found on the PyTorch website's tutorial page and are included as built in functions in the DynamicNetwrok modules simply for quality of life. The DynamicNetwork class countains multiple methods which all apply a specified mutation.  For exemple, the add_linear_layer method adds a new linear layer to the neural network, at a random location and with a random number of neurones. The evolve method simply apply a random mutation."
   ]
  },
  {
   "cell_type": "code",
   "execution_count": null,
   "id": "1cd3dbd2",
   "metadata": {},
   "outputs": [],
   "source": [
    "from DynamicNetwork import DynamicNetwork, train, test\n",
    "from torch.optim import SGD\n",
    "nb_of_players=15\n",
    "nb_of_epochs=5\n",
    "players=[]\n",
    "\n",
    "for i in range(nb_of_players):\n",
    "    player=DynamicNetwork(dummy=train_data[0][0], nb_of_labels=10)\n",
    "    player.evolve()\n",
    "    optimizer=SGD(player.parameters(), lr=player.learning_rate)\n",
    "    \n",
    "    for epoch in range(nb_of_epochs):\n",
    "        print(f\"Epoch {epoch+1}\\n-------------------------------\")\n",
    "        train(train_dataloader, player, player.loss_fn, optimizer)\n",
    "        test(test_dataloader, player, player.loss_fn)\n",
    "    player.score=test(test_dataloader, player, player.loss_fn)\n",
    "    players.append(player)\n",
    "\n"
   ]
  },
  {
   "cell_type": "markdown",
   "id": "d7358dfe",
   "metadata": {},
   "source": [
    "Here we import the compete function from the DyanamicNetwork module. This methods takes two players and make them compete: the one with the highest score on the given dataset is kept and a copy, the \"infant\", of is made of it. The player with the lowest score is deleted and a random mutation is applied to the infant. The infant inherits the weight of the parent and only the layers on which a mutation as been applied are trained. The compete function takes as argument the two players which are competing, the number of epochs, and the given train and test dataLoader."
   ]
  },
  {
   "cell_type": "code",
   "execution_count": null,
   "id": "2b438e3e",
   "metadata": {},
   "outputs": [],
   "source": [
    "from DynamicNetwork import compete\n",
    "nb_of_games=200\n",
    "\n",
    "#The following array will be used n order to keep track of the score of the population after each game\n",
    "scores=np.zeros((nb_of_players,nb_of_games+1))\n",
    "\n",
    "for index, player in enumerate(players):\n",
    "    scores[index][0]=player.score[0]\n",
    "    \n",
    "\n",
    "for i in range(nb_of_games):\n",
    "    \n",
    "    a=rd.randint(0,9)\n",
    "    b=rd.randint(0,9)\n",
    "\n",
    "    while b==a:\n",
    "        b=rd.randint(0,9)\n",
    "\n",
    "    playerA=players[a]\n",
    "    playerB=players[b]\n",
    "\n",
    "    print(f\"Start of game {i+1}\\n PlayerA is #{a} and playerB is #{b}\")\n",
    "    playerA, playerB=compete(playerA, playerB, nb_of_epochs=nb_of_epochs, train_dataloader=train_dataloader, test_dataloader=test_dataloader)\n",
    "    players[a]=playerA\n",
    "    players[b]=playerB\n",
    "\n",
    "    #Now we update the scores of the players in the array\n",
    "    for index, player in enumerate(players):\n",
    "        scores[index][i]=player.score[0]\n",
    "    \n"
   ]
  },
  {
   "cell_type": "markdown",
   "id": "926dbd52",
   "metadata": {},
   "source": [
    "Here we will visualize the evolution of the scores of our population using matplotlib.pyplot"
   ]
  },
  {
   "cell_type": "code",
   "execution_count": null,
   "id": "8111a2f9",
   "metadata": {},
   "outputs": [],
   "source": [
    "\n",
    "import matplotlib.pyplot as plt\n",
    "\n",
    "mean=[]\n",
    "max=[]\n",
    "for i in range(0,nb_of_games):\n",
    "    mean.append(np.mean(scores[:,i]))\n",
    "\n",
    "for i in range(0,nb_of_games):\n",
    "    max.append(np.max(scores[:,i]))\n",
    "\n",
    "\n",
    "\n",
    "fig=plt.figure()\n",
    "plt.plot(np.linspace(0,200,200),np.array(mean),color=\"red\", label=\"Mean\")\n",
    "plt.plot(np.linspace(0,200,200),np.array(max),color=\"green\", label=\"Max\")\n",
    "plt.legend()\n",
    "plt.xlabel(\"Game\")\n",
    "plt.ylabel(\"Accuracy[%]\")\n",
    "plt.title(\"Score of a population of 15 players after 200 games on CIFAR10\")\n",
    "plt.savefig(\"200games_15players_5epochs_CIFAR10.jpeg\")\n",
    "\n"
   ]
  }
 ],
 "metadata": {
  "kernelspec": {
   "display_name": "base",
   "language": "python",
   "name": "python3"
  },
  "language_info": {
   "codemirror_mode": {
    "name": "ipython",
    "version": 3
   },
   "file_extension": ".py",
   "mimetype": "text/x-python",
   "name": "python",
   "nbconvert_exporter": "python",
   "pygments_lexer": "ipython3",
   "version": "3.9.18"
  }
 },
 "nbformat": 4,
 "nbformat_minor": 5
}
